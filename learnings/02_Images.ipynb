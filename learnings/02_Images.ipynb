{
 "cells": [
  {
   "cell_type": "markdown",
   "id": "2e077f14",
   "metadata": {},
   "source": [
    "# Working with Containers"
   ]
  },
  {
   "cell_type": "markdown",
   "id": "11f547fb",
   "metadata": {},
   "source": [
    "## Create a DockerFile\n",
    " We are going to work on an example of machine learning model which runs on jupyter notebook. We are going to create a Docker image from this projectgit clone https://github.com/SelinGungor/docker_training_01cd docker_training_01 touch DockerfileOpen the Dockerfile with your favorite editor Ex.vim Dockerfile Create Docker Image\n",
    "Docker build command:docker build -t <image_name> <path>   Add you name as a image name:Ex:docker build -t amsterdam_selin .  Run docker container\n",
    "docker run -p 5000:5000 amsterdamcurl http://localhost:5000 Log in with your Docker ID\n",
    "If you don’t have a Docker account, sign up for one at hub.docker.com. Make note of your username.Login to public registry with your username  docker logindocker tag image username/repository:tagExample:docker tag amsterdam celinegungor/amsterdam:V1.0Check if your image is tagged  docker images  Publish the image\n",
    "docker push username/repository:tagExample:docker push celinegungor/amsterdam:V1.0 Pull and run the image from the remote repository\n",
    "From now on, you can use docker run and run your app on any machine with this command:  docker run -p 5000:5000 username/repository:tag Working with Containers\n",
    "Check the results of the commands below\n",
    "docker run alpine echo \"Hello from alpine\"  What is the result?docker run alpine /bin/sh What is the result?docker exec -it alpine sh -c \"echo test1 && echo test2\" What is the result?\n",
    " SSH into a running container\n",
    "To run a command in a running container we need to use the command format below.docker exec [OPTIONS] CONTAINER COMMAND [ARG...]  To run this command you should now the container name, otherwise you can always run \"docker ps\" command to find it out.docker exec -it <container-id> bash Remove Running Container\n",
    "Stop running containerdocker stop <Container-ID>  Remove stopped containerdocker rm <Container-ID>Remove Docker Image\n",
    "docker rmi <Image-Name>ordocker rmi <Image-ID>"
   ]
  }
 ],
 "metadata": {
  "kernelspec": {
   "display_name": "Python 3 (ipykernel)",
   "language": "python",
   "name": "python3"
  },
  "language_info": {
   "codemirror_mode": {
    "name": "ipython",
    "version": 3
   },
   "file_extension": ".py",
   "mimetype": "text/x-python",
   "name": "python",
   "nbconvert_exporter": "python",
   "pygments_lexer": "ipython3",
   "version": "3.11.5"
  }
 },
 "nbformat": 4,
 "nbformat_minor": 5
}
