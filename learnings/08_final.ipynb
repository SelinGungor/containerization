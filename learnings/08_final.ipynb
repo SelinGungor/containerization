{
 "cells": [
  {
   "cell_type": "markdown",
   "id": "e6b76c32",
   "metadata": {},
   "source": [
    "# Exercise\n",
    "\n",
    "\n",
    "1. Create a spring boot Java/Python application\n",
    "1. Deploy to Kubernetes\n",
    "1. Add a service\n",
    "1. Deploy a rolling update"
   ]
  },
  {
   "cell_type": "code",
   "execution_count": null,
   "id": "b35a2dcb",
   "metadata": {},
   "outputs": [],
   "source": []
  }
 ],
 "metadata": {
  "kernelspec": {
   "display_name": "Python 3 (ipykernel)",
   "language": "python",
   "name": "python3"
  },
  "language_info": {
   "codemirror_mode": {
    "name": "ipython",
    "version": 3
   },
   "file_extension": ".py",
   "mimetype": "text/x-python",
   "name": "python",
   "nbconvert_exporter": "python",
   "pygments_lexer": "ipython3",
   "version": "3.11.5"
  }
 },
 "nbformat": 4,
 "nbformat_minor": 5
}
