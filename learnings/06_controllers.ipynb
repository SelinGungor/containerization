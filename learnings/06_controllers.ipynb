{
 "cells": [
  {
   "cell_type": "markdown",
   "id": "03418d1c",
   "metadata": {},
   "source": [
    "# Controllers"
   ]
  },
  {
   "cell_type": "markdown",
   "id": "6ed11c3e",
   "metadata": {},
   "source": [
    "## Deployments\n",
    "\n",
    "A Deployment controller provides declarative updates for Pods and ReplicaSets."
   ]
  },
  {
   "cell_type": "markdown",
   "id": "6c6e444f",
   "metadata": {},
   "source": [
    "## Create Deployment\n",
    "\n",
    "1. Download the file from: `https://github.com/SelinGungor/containerization/blob/main/study_02/kubernetes_objects/02_my_first_deployment.yaml`\n",
    "        \n",
    "1. Change the name parameter from amsterdam-deployment to amsterdam-deployment-yourname \n",
    "\n",
    "1. `kubectl create -f 02_my_first_deployment.yaml`  \n",
    "\n",
    "1. Delete the pod. \n",
    "\n",
    "1. Check what happened with `kubectl get pods`?"
   ]
  },
  {
   "cell_type": "markdown",
   "id": "fe399985",
   "metadata": {},
   "source": [
    "## Get Deployment\n",
    "\n",
    "\n",
    "`kubectl get deployments`"
   ]
  },
  {
   "cell_type": "markdown",
   "id": "94b9730a",
   "metadata": {},
   "source": [
    "## Update Deployment\n",
    "Suppose that you now want to update the Pods to use the celinegungor/amsterdam:V1.0 image instead of the celinegungor/amsterdam:V2.0 image.\n",
    "        \n",
    "`kubectl set image deployment amsterdam-deployment amsterdam=amsterdam:V1.0 --record`    \n",
    "            \n",
    "Is it updated?"
   ]
  },
  {
   "cell_type": "markdown",
   "id": "79e7505d",
   "metadata": {},
   "source": [
    "# See pods\n",
    "\n",
    "\n",
    "`kubectl get pods`"
   ]
  },
  {
   "cell_type": "markdown",
   "id": "7391db6f",
   "metadata": {},
   "source": [
    "## Rolling Back a Deployment\n",
    "When the Deployment is not stable,  you may want to rollback a Deployment. By default, all of the Deployment’s rollout history is kept in the system so that you can rollback anytime you want. \n",
    "\n",
    "Suppose you made a mistake when writing the version\n",
    "\n",
    "`kubectl set image deployment amsterdam-deployment amsterdam=amsterdam:V3.33 --record`\n",
    "    \n",
    "The rollout will be stuck. \n",
    "\n",
    "`kubectl rollout status deployments amsterdam-deployment`\n",
    "\n",
    "Press Ctrl-C to stop the above rollout status watch\n",
    "\n",
    "`kubectl get pods`\n",
    "\n",
    "You will see that 1 Pod created by new ReplicaSet is stuck in an image pull loop. Check Rollout History of a Deployment\n",
    "\n",
    "\n",
    "`kubectl rollout history amsterdam-deployment`\n",
    "\n",
    "Is it rolled back?\n",
    "\n",
    "Rolling Back to a Previous Revision\n",
    "\n",
    "\n",
    "`kubectl rollout undo amsterdam-deployment`\n",
    "\n",
    "\n",
    "Alternatively, you can rollback to a specific revision by specify that in `--to-revision`:\n",
    "\n",
    "`kubectl rollout undo amsterdam-deployment --to-revision=2`"
   ]
  },
  {
   "cell_type": "code",
   "execution_count": null,
   "id": "9bf0bc2b",
   "metadata": {},
   "outputs": [],
   "source": []
  }
 ],
 "metadata": {
  "kernelspec": {
   "display_name": "Python 3 (ipykernel)",
   "language": "python",
   "name": "python3"
  },
  "language_info": {
   "codemirror_mode": {
    "name": "ipython",
    "version": 3
   },
   "file_extension": ".py",
   "mimetype": "text/x-python",
   "name": "python",
   "nbconvert_exporter": "python",
   "pygments_lexer": "ipython3",
   "version": "3.11.5"
  }
 },
 "nbformat": 4,
 "nbformat_minor": 5
}
