{
 "cells": [
  {
   "cell_type": "markdown",
   "id": "aee3d328",
   "metadata": {},
   "source": [
    "# Kubernetes"
   ]
  },
  {
   "cell_type": "markdown",
   "id": "f2ead085",
   "metadata": {},
   "source": [
    "Execute the commands below to see if the cluster up and running\n",
    "\n",
    "Check minicube is available:\n",
    "    \n",
    "`minikube version`   \n",
    "\n",
    "Start minikube if you haven't started yet:\n",
    "\n",
    "`minikube start`\n",
    "\n",
    "\n",
    "Check kubectl is availeble:\n",
    "    \n",
    "`kubectl version`     \n",
    "\n",
    "\n",
    "Get cluster-info:\n",
    "    \n",
    "`kubectl cluster-info`   \n",
    "\n",
    "\n",
    "See the nodes in the cluster\n",
    "\n",
    "`kubectl get nodes`"
   ]
  },
  {
   "cell_type": "markdown",
   "id": "1b5bd6e3",
   "metadata": {},
   "source": [
    "## Pods\n",
    "A Pod is the basic building block of Kubernetes–the smallest and simplest unit in the Kubernetes object model that you create or deploy."
   ]
  },
  {
   "cell_type": "markdown",
   "id": "255e442b",
   "metadata": {},
   "source": [
    "## Exercise:\n",
    "\n",
    "Deploying first application to Kubernetes\n",
    "\n",
    "Creating your first pod:    \n",
    "\n",
    "\n",
    "1. Download the file -> https://github.com/SelinGungor/containerization/tree/main/study_01/blob/master/01_my_first_pod.yaml\n",
    "    \n",
    "1. Change the name of the pod\n",
    "\n",
    "1. Deploy the pod to Kubernetes using the command below \n",
    "\n",
    "    `kubectl create -f my_first_pod.yaml`\n",
    "\n",
    "1. Check the status of the pod kubectl get pod <pod-name>\n",
    "\n",
    "1. Get Pod information in a output file \n",
    "   \n",
    "    `kubectl get pod <pod-name> --output=yaml`             \n",
    "\n",
    "1. Let's take a look at pod in detail \n",
    "\n",
    "    `kubectl describe pod <pod-name>`\n",
    "\n",
    "1. See all the pods \n",
    "\n",
    "    `kubectl get pods`\n"
   ]
  },
  {
   "cell_type": "code",
   "execution_count": null,
   "id": "85b93b28",
   "metadata": {},
   "outputs": [],
   "source": []
  }
 ],
 "metadata": {
  "kernelspec": {
   "display_name": "Python 3 (ipykernel)",
   "language": "python",
   "name": "python3"
  },
  "language_info": {
   "codemirror_mode": {
    "name": "ipython",
    "version": 3
   },
   "file_extension": ".py",
   "mimetype": "text/x-python",
   "name": "python",
   "nbconvert_exporter": "python",
   "pygments_lexer": "ipython3",
   "version": "3.11.5"
  }
 },
 "nbformat": 4,
 "nbformat_minor": 5
}
