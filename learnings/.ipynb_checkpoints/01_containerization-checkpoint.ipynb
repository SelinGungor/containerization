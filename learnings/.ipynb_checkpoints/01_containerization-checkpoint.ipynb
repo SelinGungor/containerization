{
 "cells": [
  {
   "cell_type": "markdown",
   "id": "ad0ea0fb",
   "metadata": {},
   "source": [
    "# Introduction to Containerization\n",
    "\n",
    "Containerization is a method of packaging software code along with all the necessary components, such as libraries, frameworks, and dependencies, so that it can run uniformly and consistently on any infrastructure. This package is called a container."
   ]
  },
  {
   "cell_type": "markdown",
   "id": "550c59c8",
   "metadata": {},
   "source": [
    "# Install Docker\n",
    "\n",
    "\n",
    "The easiest way to install these tools on a Mac is through Homebrew. Alternative (for Linux/Windows for example) is downloading the Docker Desktop. https://docs.docker.com/desktop/install/mac-install/\n"
   ]
  },
  {
   "cell_type": "markdown",
   "id": "b3e131e3",
   "metadata": {},
   "source": [
    "Local install with Homebrew (Mac)\n",
    "\n",
    "`$ brew cask install docker`"
   ]
  },
  {
   "cell_type": "markdown",
   "id": "f3ed7faa",
   "metadata": {},
   "source": [
    "## Launch Docker\n",
    "\n",
    "1. Press Command + Space to bring up Spotlight Search and enter Docker to launch Docker.  \n",
    "1. In the Docker needs privileged access dialog box, click OK.  \n",
    "1. Enter password and click OK.  \n",
    "1. Click on the docker whale icon in the status menu and wait for it to show Docker is running."
   ]
  },
  {
   "cell_type": "markdown",
   "id": "948e72f4",
   "metadata": {},
   "source": [
    "# First Docker Image\n",
    "`$ docker run hello-world`"
   ]
  },
  {
   "cell_type": "markdown",
   "id": "171dab12",
   "metadata": {},
   "source": [
    "# Docker Images\n",
    " \n",
    "List the hello-world image that was downloaded to your machine\n",
    "`$ docker image ls` \n",
    "\n",
    "or \n",
    "\n",
    "`$ docker images `\n",
    "\n",
    "List the hello-world container which exits after displaying its message.\n",
    "`$ docker container ls` \n",
    "\n",
    "or \n",
    "\n",
    "`$ docker ps`\n",
    "\n",
    "List all running and all stopped containers\n",
    "`$ docker container ls --all` \n",
    "\n",
    "or \n",
    "\n",
    "`$ docker ps -a`"
   ]
  },
  {
   "cell_type": "code",
   "execution_count": null,
   "id": "a489c97d",
   "metadata": {},
   "outputs": [],
   "source": []
  }
 ],
 "metadata": {
  "kernelspec": {
   "display_name": "Python 3 (ipykernel)",
   "language": "python",
   "name": "python3"
  },
  "language_info": {
   "codemirror_mode": {
    "name": "ipython",
    "version": 3
   },
   "file_extension": ".py",
   "mimetype": "text/x-python",
   "name": "python",
   "nbconvert_exporter": "python",
   "pygments_lexer": "ipython3",
   "version": "3.11.5"
  }
 },
 "nbformat": 4,
 "nbformat_minor": 5
}
