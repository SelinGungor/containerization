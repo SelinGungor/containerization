{
 "cells": [
  {
   "cell_type": "markdown",
   "id": "0361c804",
   "metadata": {},
   "source": [
    "# Minikube"
   ]
  },
  {
   "cell_type": "markdown",
   "id": "a69d7a46",
   "metadata": {},
   "source": [
    "## Install kubectl\n"
   ]
  },
  {
   "cell_type": "markdown",
   "id": "286f0505",
   "metadata": {},
   "source": [
    "##### Installation for CentOS, RHEL or Fedora\n",
    "add the kubernetes repository\n",
    "\n",
    "`cat <<EOF | sudo tee /etc/yum.repos.d/kubernetes.repo\n",
    "[kubernetes]\n",
    "name=Kubernetes\n",
    "baseurl=https://packages.cloud.google.com/yum/repos/kubernetes-el7-\\$basearch\n",
    "enabled=1\n",
    "gpgcheck=1\n",
    "repo_gpgcheck=1\n",
    "gpgkey=https://packages.cloud.google.com/yum/doc/yum-key.gpg https://packages.cloud.google.com/yum/doc/rpm-package-key.gpg\n",
    "EOF`\n",
    "\n",
    "Install kubectl\n",
    "\n",
    "`sudo yum install -y kubectl`\n",
    "   \n",
    "\n",
    "Verify the installation\n",
    "            \n",
    "`kubectl version --client`\n",
    "            \n",
    "            \n",
    "##### Installation for macOS\n",
    "\n",
    "            \n",
    "`brew install kubernetes-cli`\n",
    "\n",
    "\n",
    "##### Installation for Windows\n",
    "\n",
    "\n",
    "Using Chocolatey package manager;\n",
    "\n",
    "\n",
    "`choco install kubernetes-cli`"
   ]
  },
  {
   "cell_type": "markdown",
   "id": "b02f0ee3",
   "metadata": {},
   "source": [
    "# Install Minikube\n"
   ]
  },
  {
   "cell_type": "markdown",
   "id": "5f8046e1",
   "metadata": {},
   "source": [
    "### Installation for macOS\n",
    "\n",
    "\n",
    "`brew install minikube`\n",
    "\n",
    "### Installation for Linux\n",
    "Download static binary:\n",
    "    \n",
    "`curl -Lo minikube https://storage.googleapis.com/minikube/releases/latest/minikube-linux-amd64 \\\\   && chmod +x minikube`\n",
    "\n",
    "Add the Minikube executable to your path:\n",
    "\n",
    "`sudo cp minikube /usr/local/bin && rm minikube`\n",
    "            \n",
    "            \n",
    "### Installation for Windows\n",
    "Download minikube-installer.exe and execute the installer. --> https://github.com/kubernetes/minikube/releases/tag/xx\n",
    "\n",
    "or with a package manager\n",
    "`winget install Kubernetes.minikube`\n"
   ]
  },
  {
   "cell_type": "markdown",
   "id": "d7a1b065",
   "metadata": {},
   "source": [
    "# Run Kubernetes locally using Minikube"
   ]
  },
  {
   "cell_type": "markdown",
   "id": "4061616a",
   "metadata": {},
   "source": [
    "Start a local Kubernetes cluster:\n",
    "    \n",
    "`minikube start`\n",
    " \n",
    "\n",
    "Check Kubectl is healty\n",
    "\n",
    "\n",
    "`kubectl version`\n",
    "\n",
    "\n",
    "Run First Pod\n",
    "\n",
    "\n",
    "`kubectl run hello-minikube --image=k8s.gcr.io/echoserver:1.10 --port=8080`"
   ]
  },
  {
   "cell_type": "code",
   "execution_count": null,
   "id": "26b89ad8",
   "metadata": {},
   "outputs": [],
   "source": []
  }
 ],
 "metadata": {
  "kernelspec": {
   "display_name": "Python 3 (ipykernel)",
   "language": "python",
   "name": "python3"
  },
  "language_info": {
   "codemirror_mode": {
    "name": "ipython",
    "version": 3
   },
   "file_extension": ".py",
   "mimetype": "text/x-python",
   "name": "python",
   "nbconvert_exporter": "python",
   "pygments_lexer": "ipython3",
   "version": "3.11.5"
  }
 },
 "nbformat": 4,
 "nbformat_minor": 5
}
