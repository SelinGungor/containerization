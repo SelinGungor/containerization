{
 "cells": [
  {
   "cell_type": "markdown",
   "id": "2e077f14",
   "metadata": {},
   "source": [
    "# Working with Containers"
   ]
  },
  {
   "cell_type": "markdown",
   "id": "11f547fb",
   "metadata": {},
   "source": [
    "## Create a DockerFile\n",
    " We are going to work on an example API. We are going to create a Docker image from this project\n",
    " \n",
    " `git clone https://github.com/SelinGungor/containerization.git`   "
   ]
  },
  {
   "cell_type": "markdown",
   "id": "71741c9b",
   "metadata": {},
   "source": [
    " `cd study_01`    \n"
   ]
  },
  {
   "cell_type": "markdown",
   "id": "a89cfb14",
   "metadata": {},
   "source": [
    " `touch Dockerfile`   "
   ]
  },
  {
   "cell_type": "markdown",
   "id": "18a61ea4",
   "metadata": {},
   "source": [
    "Open the Dockerfile with your favorite editor \n",
    "Ex.\n",
    "`vim Dockerfile`"
   ]
  },
  {
   "cell_type": "markdown",
   "id": "e2dc43db",
   "metadata": {},
   "source": [
    "## Create Docker Image\n",
    "\n",
    "Docker build command:    \n",
    "\n",
    "\n",
    "  `docker build -t <image_name> <path>`"
   ]
  },
  {
   "cell_type": "markdown",
   "id": "201ed6f4",
   "metadata": {},
   "source": [
    "Add your name as a image name:\n",
    "    \n",
    "    \n",
    " Ex: \n",
    "    `docker build -t amsterdam_selin .`"
   ]
  },
  {
   "cell_type": "markdown",
   "id": "1fa8f15a",
   "metadata": {},
   "source": [
    "## Run docker container\n",
    "\n",
    "\n",
    "`docker run -p 5000:5000 amsterdam`\n",
    "    \n",
    "    \n",
    "\n",
    "`curl http://localhost:5000`"
   ]
  },
  {
   "cell_type": "markdown",
   "id": "e91d3f0f",
   "metadata": {},
   "source": [
    "## Log in with your Docker ID\n",
    "\n",
    "If you don’t have a Docker account, sign up for one at hub.docker.com. Make note of your username.\n",
    "\n",
    "\n",
    "Login to public registry with your username  \n",
    "\n",
    "\n",
    "`docker login`\n",
    "\n",
    "\n",
    "`docker tag image username/repository:tag`\n",
    "    \n",
    "    \n",
    "Example:\n",
    "`docker tag amsterdam celinegungor/amsterdam:V1.0`\n",
    "    \n",
    "    Check if your image is tagged  \n",
    "    \n",
    "`docker images`"
   ]
  },
  {
   "cell_type": "markdown",
   "id": "62dab249",
   "metadata": {},
   "source": [
    "## Publish the image\n",
    "\n",
    "\n",
    "`docker push username/repository:tag`\n",
    "    \n",
    "Example:\n",
    "    \n",
    "`docker push celinegungor/amsterdam:V1.0`"
   ]
  },
  {
   "cell_type": "markdown",
   "id": "d5611d46",
   "metadata": {},
   "source": [
    "## Pull and run the image from the remote repository\n",
    "\n",
    "\n",
    "From now on, you can use docker run and run your app on any machine with this command:  \n",
    "    \n",
    "    \n",
    "`docker run -p 5000:5000 username/repository:tag`"
   ]
  },
  {
   "cell_type": "markdown",
   "id": "df60259f",
   "metadata": {},
   "source": [
    "## Working with Containers\n",
    "\n",
    "\n",
    "Check the results of the commands below:\n",
    "    \n",
    "1. `docker run alpine echo \"Hello from alpine\"`  What is the result?\n",
    "1. `docker run alpine /bin/sh` What is the result?\n",
    "1. `docker exec -it alpine sh -c \"echo test1 && echo test2\"` What is the result?"
   ]
  },
  {
   "cell_type": "markdown",
   "id": "113e6ad8",
   "metadata": {},
   "source": [
    "## SSH into a running container\n",
    "\n",
    "\n",
    "To run a command in a running container we need to use the command format below.\n",
    "\n",
    "`docker exec [OPTIONS] CONTAINER COMMAND [ARG...]`\n",
    "\n",
    "\n",
    "To run this command you should now the container name, otherwise you can always run \"docker ps\" command to find it out.\n",
    "\n",
    "\n",
    "`docker exec -it <container-id> bash`"
   ]
  },
  {
   "cell_type": "markdown",
   "id": "d48014f6",
   "metadata": {},
   "source": [
    "## Remove Running Container\n",
    "\n",
    "\n",
    "Stop running container\n",
    "\n",
    "`docker stop <Container-ID>`  \n",
    "\n",
    "Remove stopped container\n",
    "\n",
    "\n",
    "`docker rm <Container-ID>`"
   ]
  },
  {
   "cell_type": "markdown",
   "id": "879558d1",
   "metadata": {},
   "source": [
    "## Remove Docker Image\n",
    "\n",
    "\n",
    "`docker rmi <Image-Name>` \n",
    "\n",
    "or\n",
    "\n",
    "`docker rmi <Image-ID>`"
   ]
  },
  {
   "cell_type": "code",
   "execution_count": null,
   "id": "4c6a466a",
   "metadata": {},
   "outputs": [],
   "source": []
  }
 ],
 "metadata": {
  "kernelspec": {
   "display_name": "Python 3 (ipykernel)",
   "language": "python",
   "name": "python3"
  },
  "language_info": {
   "codemirror_mode": {
    "name": "ipython",
    "version": 3
   },
   "file_extension": ".py",
   "mimetype": "text/x-python",
   "name": "python",
   "nbconvert_exporter": "python",
   "pygments_lexer": "ipython3",
   "version": "3.11.5"
  }
 },
 "nbformat": 4,
 "nbformat_minor": 5
}
