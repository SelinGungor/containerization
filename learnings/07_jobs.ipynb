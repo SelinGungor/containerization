{
 "cells": [
  {
   "cell_type": "markdown",
   "id": "3c06af04",
   "metadata": {},
   "source": [
    "# Jobs"
   ]
  },
  {
   "cell_type": "markdown",
   "id": "3f8f6626",
   "metadata": {},
   "source": [
    "A job creates one or more pods and ensures that a specified number of them successfully terminate\n",
    "\n",
    "\n",
    "Download file from: \n",
    "`https://github.com/SelinGungor/containerization/blob/main/study_02/kubernetes_objects/03_my_first_job.yaml`\n",
    "    \n",
    "    \n",
    "`kubectl create -f 03_my_first_job.yaml`\n",
    "\n",
    "\n",
    "`kubectl describe jobs/pi`"
   ]
  },
  {
   "cell_type": "markdown",
   "id": "09d29b62",
   "metadata": {},
   "source": [
    "### To see the pods the job created:\n",
    "\n",
    "`kubectl get pods`\n",
    "\n",
    "\n",
    "\n",
    "### To list all the pods that belong to a job in a machine readable form\n",
    "\n",
    "`pods=$(kubectl get pods --selector=pi-app=pi --output=jsonpath={.items..metadata.name}echo pods</code><br><code>kubectllogspods`\n",
    "\n",
    "As with all other Kubernetes config, a Job needs apiVersion, kind, and metadata fields.\n",
    "\n",
    "### Pod Backoff failure policy\n",
    ".spec.backoffLimit to specify the number of retries before considering a Job as failed."
   ]
  },
  {
   "cell_type": "markdown",
   "id": "48426034",
   "metadata": {},
   "source": [
    "# Job Types"
   ]
  },
  {
   "cell_type": "markdown",
   "id": "11390d00",
   "metadata": {},
   "source": [
    "## Non-parallel Jobs\n",
    "\n",
    "1. Normally only one pod is started, unless the pod fails.\n",
    "1. Job is complete as soon as Pod terminates successfully."
   ]
  },
  {
   "cell_type": "markdown",
   "id": "4b2313fd",
   "metadata": {},
   "source": [
    "## Parallel Jobs with a fixed completion count\n",
    "\n",
    "1. Specify a non-zero positive value for .spec.completions.\n",
    "1. The job is complete when there is one successful pod for each value in the range 1 to .spec.completions."
   ]
  },
  {
   "cell_type": "markdown",
   "id": "5d52d2e7",
   "metadata": {},
   "source": [
    "## Parallel Jobs with a work queue\n",
    "\n",
    "1. Do not specify .spec.completions, default to .spec.parallelism.\n",
    "1. The pods must coordinate with themselves or an external service to determine what each should work on.\n",
    "1. Each pod is independently capable of determining whether or not all its peers are done, thus the entire Job is done.\n",
    "1. For a Work Queue Job, you must leave .spec.completions unset, and set .spec.parallelism to a non-negative integer.\n",
    "\n",
    "\n",
    "\n",
    "`For a Non-parallel job, you can leave both .spec.completions and .spec.parallelism unset. When both are unset, both are defaulted to 1.`"
   ]
  },
  {
   "cell_type": "markdown",
   "id": "37fb8370",
   "metadata": {},
   "source": [
    "### Job Termination and Cleanup\n",
    "\n",
    "\n",
    "`kubectl delete jobs/pi`\n",
    "\n",
    "or \n",
    "\n",
    "`kubectl delete -f ./job.yaml`"
   ]
  },
  {
   "cell_type": "markdown",
   "id": "5a5abe80",
   "metadata": {},
   "source": [
    "# Exercise:\n",
    "\n",
    "`Set an active deadline for a job`\n",
    "\n",
    "\n",
    "- Set the .spec.activeDeadlineSeconds to 150 in 03_my_first_job.yaml file\n",
    "- Set the name of the pod to \"pi-with-timeout\"\n",
    "- Recreate a job with using kubectl create -f 03_my_first_job.yaml command"
   ]
  },
  {
   "cell_type": "code",
   "execution_count": null,
   "id": "d0936c18",
   "metadata": {},
   "outputs": [],
   "source": []
  }
 ],
 "metadata": {
  "kernelspec": {
   "display_name": "Python 3 (ipykernel)",
   "language": "python",
   "name": "python3"
  },
  "language_info": {
   "codemirror_mode": {
    "name": "ipython",
    "version": 3
   },
   "file_extension": ".py",
   "mimetype": "text/x-python",
   "name": "python",
   "nbconvert_exporter": "python",
   "pygments_lexer": "ipython3",
   "version": "3.11.5"
  }
 },
 "nbformat": 4,
 "nbformat_minor": 5
}
